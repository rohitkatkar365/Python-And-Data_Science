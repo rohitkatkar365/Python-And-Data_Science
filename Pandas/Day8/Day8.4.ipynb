{
 "cells": [
  {
   "cell_type": "code",
   "execution_count": 12,
   "id": "9dcb6660-cc80-47ca-ae34-23e782e9c907",
   "metadata": {},
   "outputs": [
    {
     "data": {
      "text/plain": [
       "DatetimeIndex(['2017-01-05', 'NaT', 'NaT', 'NaT', 'NaT', 'NaT'], dtype='datetime64[ns]', freq=None)"
      ]
     },
     "execution_count": 12,
     "metadata": {},
     "output_type": "execute_result"
    }
   ],
   "source": [
    "import pandas as pd\n",
    "\n",
    "dates = ['2017-01-05', 'Jan 5, 2017', '01/05/2017', '2017.01.05', '2017/01/05', '20170105']\n",
    "pd.to_datetime(dates, errors='coerce')\n",
    "# print(parsed_dates)\n"
   ]
  },
  {
   "cell_type": "code",
   "execution_count": 9,
   "id": "914a71ae-2dd7-401c-9517-776ff5600f2c",
   "metadata": {},
   "outputs": [
    {
     "name": "stderr",
     "output_type": "stream",
     "text": [
      "C:\\Users\\rohi\\AppData\\Local\\Temp\\ipykernel_8564\\960965428.py:2: UserWarning: Could not infer format, so each element will be parsed individually, falling back to `dateutil`. To ensure parsing is consistent and as-expected, please specify a format.\n",
      "  pd.to_datetime(dt)\n"
     ]
    },
    {
     "data": {
      "text/plain": [
       "DatetimeIndex(['2017-01-05 14:30:00', '2017-01-05 14:30:00',\n",
       "               '2016-01-05 00:00:00', '2017-01-05 00:00:00',\n",
       "               '2017-01-05 00:00:00', '2017-01-05 00:00:00'],\n",
       "              dtype='datetime64[ns]', freq=None)"
      ]
     },
     "execution_count": 9,
     "metadata": {},
     "output_type": "execute_result"
    }
   ],
   "source": [
    "dt = ['2017-01-05 2:30:00 PM', 'Jan 5, 2017 14:30:00', '01/05/2016', '2017.01.05', '2017/01/05','20170105']\n",
    "pd.to_datetime(dt)"
   ]
  },
  {
   "cell_type": "markdown",
   "id": "7f6c84c8-7897-4cd7-be5f-c66a1c47977a",
   "metadata": {},
   "source": [
    "European style dates with day first"
   ]
  },
  {
   "cell_type": "code",
   "execution_count": 13,
   "id": "c8ffaef5-d2f1-49bb-84fe-b6663627ba9d",
   "metadata": {},
   "outputs": [
    {
     "name": "stderr",
     "output_type": "stream",
     "text": [
      "C:\\Users\\rohi\\AppData\\Local\\Temp\\ipykernel_8564\\3581319831.py:1: UserWarning: Parsing dates in %d-%m-%Y format when dayfirst=False (the default) was specified. Pass `dayfirst=True` or specify a format to silence this warning.\n",
      "  pd.to_datetime('30-12-2016')\n"
     ]
    },
    {
     "data": {
      "text/plain": [
       "Timestamp('2016-12-30 00:00:00')"
      ]
     },
     "execution_count": 13,
     "metadata": {},
     "output_type": "execute_result"
    }
   ],
   "source": [
    "pd.to_datetime('30-12-2016')\n"
   ]
  },
  {
   "cell_type": "code",
   "execution_count": 14,
   "id": "e474f9f0-c0e1-4854-a306-51ec2b6b769e",
   "metadata": {},
   "outputs": [
    {
     "data": {
      "text/plain": [
       "Timestamp('2016-01-05 00:00:00')"
      ]
     },
     "execution_count": 14,
     "metadata": {},
     "output_type": "execute_result"
    }
   ],
   "source": [
    "pd.to_datetime('5-1-2016', dayfirst=True)"
   ]
  },
  {
   "cell_type": "code",
   "execution_count": null,
   "id": "65b39fae-8359-48ca-a18e-c78d68ebd903",
   "metadata": {},
   "outputs": [],
   "source": [
    "Custom date time format"
   ]
  },
  {
   "cell_type": "code",
   "execution_count": 16,
   "id": "13478785-1734-4288-971c-bc9c9ddca840",
   "metadata": {},
   "outputs": [
    {
     "data": {
      "text/plain": [
       "Timestamp('2017-01-05 00:00:00')"
      ]
     },
     "execution_count": 16,
     "metadata": {},
     "output_type": "execute_result"
    }
   ],
   "source": [
    "pd.to_datetime('2017$01$05', format='%Y$%m$%d')\n"
   ]
  },
  {
   "cell_type": "code",
   "execution_count": 17,
   "id": "26e117b1-cd79-44fd-a613-18d2f01fabee",
   "metadata": {},
   "outputs": [
    {
     "data": {
      "text/plain": [
       "Timestamp('2017-01-05 00:00:00')"
      ]
     },
     "execution_count": 17,
     "metadata": {},
     "output_type": "execute_result"
    }
   ],
   "source": [
    "pd.to_datetime('2017#01#05', format='%Y#%m#%d')"
   ]
  },
  {
   "cell_type": "code",
   "execution_count": 18,
   "id": "1271820c-aba2-4498-ac5b-3ba9bb450ecc",
   "metadata": {},
   "outputs": [],
   "source": [
    "#Handling invalid dates"
   ]
  },
  {
   "cell_type": "code",
   "execution_count": 19,
   "id": "3cb4b518-5e27-447c-bd40-67580ea62155",
   "metadata": {},
   "outputs": [
    {
     "name": "stderr",
     "output_type": "stream",
     "text": [
      "C:\\Users\\rohi\\AppData\\Local\\Temp\\ipykernel_8564\\312132242.py:1: FutureWarning: errors='ignore' is deprecated and will raise in a future version. Use to_datetime without passing `errors` and catch exceptions explicitly instead\n",
      "  pd.to_datetime(['2017-01-05', 'Jan 6, 2017', 'abc'], errors='ignore')\n"
     ]
    },
    {
     "data": {
      "text/plain": [
       "Index(['2017-01-05', 'Jan 6, 2017', 'abc'], dtype='object')"
      ]
     },
     "execution_count": 19,
     "metadata": {},
     "output_type": "execute_result"
    }
   ],
   "source": [
    "pd.to_datetime(['2017-01-05', 'Jan 6, 2017', 'abc'], errors='ignore')"
   ]
  }
 ],
 "metadata": {
  "kernelspec": {
   "display_name": "Python 3 (ipykernel)",
   "language": "python",
   "name": "python3"
  },
  "language_info": {
   "codemirror_mode": {
    "name": "ipython",
    "version": 3
   },
   "file_extension": ".py",
   "mimetype": "text/x-python",
   "name": "python",
   "nbconvert_exporter": "python",
   "pygments_lexer": "ipython3",
   "version": "3.12.6"
  }
 },
 "nbformat": 4,
 "nbformat_minor": 5
}
